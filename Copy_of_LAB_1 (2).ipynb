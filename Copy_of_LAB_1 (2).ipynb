{
  "cells": [
    {
      "cell_type": "markdown",
      "metadata": {
        "id": "lGqWmOVwl3m6"
      },
      "source": [
        "LAB #01\n",
        "\n",
        "\n",
        "\n",
        "THIS IS MY FIRST LAB EXERCISE."
      ]
    },
    {
      "cell_type": "code",
      "execution_count": null,
      "metadata": {
        "id": "S_kwqtr7l3m8",
        "outputId": "cab6722a-5327-41c7-93e5-35866e6bfe23",
        "colab": {
          "base_uri": "https://localhost:8080/"
        }
      },
      "outputs": [
        {
          "output_type": "stream",
          "name": "stderr",
          "text": [
            "<ipython-input-3-d3d7d7d861d1>:19: DeprecationWarning: `set_matplotlib_formats` is deprecated since IPython 7.23, directly use `matplotlib_inline.backend_inline.set_matplotlib_formats()`\n",
            "  set_matplotlib_formats('png', 'pdf')\n"
          ]
        }
      ],
      "source": [
        "# Some useful libraries\n",
        "import numpy as np\n",
        "from numpy.random import default_rng\n",
        "\n",
        "#Pandas for data structure and analysis tools\n",
        "import pandas as pd\n",
        "\n",
        "#seaborn and matplotlib for plotting\n",
        "import seaborn as sns\n",
        "import matplotlib.pyplot as plt\n",
        "\n",
        "#SciKit learn import\n",
        "import sklearn\n",
        "\n",
        "#for nice vector graphics\n",
        "%matplotlib inline\n",
        "\n",
        "from IPython.display import set_matplotlib_formats\n",
        "set_matplotlib_formats('png', 'pdf')\n",
        "\n",
        "np.random.seed(42) # Fixed seed for reproducibility, do not change this value\n",
        "rng = default_rng()"
      ]
    },
    {
      "cell_type": "markdown",
      "metadata": {
        "id": "X5OiISfDl3m9"
      },
      "source": []
    },
    {
      "cell_type": "markdown",
      "source": [
        "# Problem 5\n",
        "\n",
        "We looked at the MNIST data set in class. Recall that MNIST is a data set of handwritten digits. It is considered one of the ``easiest'' image recognition problems in computer vision. You can find the MNIST data set which we will use, here: https://www.openml.org/d/554. Though we haven't introduced decision trees formally, we have had a chance to see them in action in class. This exercise is an opportunity to play around with this data set, and in advance of when we get to talk about decision trees in detail, have a chance to see how they work. In short, this is an exercise in learning-by-doing.\n",
        "\n",
        "\n",
        "Part 1. (Nothing to submit) Make sure you can run through the entire Colab notebook posted. Especially if you haven't used Python, try to understand what every line is doing.\n",
        "\n",
        "Part 2. How many data points are there, how many features are there, and what do the features represent?\n",
        "\n",
        "Part 3. Compute how many times each digit appears in the dataset.\n",
        "\n",
        "Part 4. Read the documentation for sklearn.model_selection.train_test_split and explain what this does.\n",
        "\n",
        "Part 5. Read the documentation for DecisionTreeClassifier, and explain what score means.\n",
        "\n",
        "Part 6. What happens to the **training score** as you increase the depth of the tree? Explain.\n",
        "\n",
        "Part 7. What happens to the difference between **training score** and **testing score** as you increase the depth of the tree? Explain.\n",
        "\n",
        "Part 8. Fix the depth of the three, say, depth=7. Then plot the difference of training score - testing score when you train on: 100, 500, 5000, 10000, 15,0000, 20,000, 25,000 points, always computing testing score by evaluating on the complement of the training set. Plot this trend.  Try to explain what you are seeing.  "
      ],
      "metadata": {
        "id": "dHIye7XCageR"
      }
    },
    {
      "cell_type": "markdown",
      "source": [
        "###Part 2:"
      ],
      "metadata": {
        "id": "IHbGQNr5ay7K"
      }
    },
    {
      "cell_type": "markdown",
      "source": [
        "###Part 2:"
      ],
      "metadata": {
        "id": "3d1hafd0MpME"
      }
    },
    {
      "cell_type": "code",
      "source": [
        "from sklearn.datasets import fetch_openml\n",
        "\n",
        "mnist = fetch_openml(data_id=554, as_frame=True)\n",
        "data = mnist.data\n",
        "labels = mnist.target\n",
        "mnist = pd.concat([data, labels], axis=1)\n",
        "mnist.rename(columns={mnist.columns[-1]: 'label'}, inplace=True)\n",
        "print(mnist.head())\n",
        "rows, cols = mnist.shape\n",
        "print(f\"Number of rows: {rows}\")\n",
        "print(f\"Number of columns: {cols}\")\n"
      ],
      "metadata": {
        "id": "8li5XyWEcysP",
        "outputId": "6f603b7e-207d-4e21-d09d-023affda975f",
        "colab": {
          "base_uri": "https://localhost:8080/"
        }
      },
      "execution_count": null,
      "outputs": [
        {
          "output_type": "stream",
          "name": "stderr",
          "text": [
            "/usr/local/lib/python3.10/dist-packages/sklearn/datasets/_openml.py:1022: FutureWarning: The default value of `parser` will change from `'liac-arff'` to `'auto'` in 1.4. You can set `parser='auto'` to silence this warning. Therefore, an `ImportError` will be raised from 1.4 if the dataset is dense and pandas is not installed. Note that the pandas parser may return different data types. See the Notes Section in fetch_openml's API doc for details.\n",
            "  warn(\n"
          ]
        },
        {
          "output_type": "stream",
          "name": "stdout",
          "text": [
            "   pixel1  pixel2  pixel3  pixel4  pixel5  pixel6  pixel7  pixel8  pixel9  \\\n",
            "0     0.0     0.0     0.0     0.0     0.0     0.0     0.0     0.0     0.0   \n",
            "1     0.0     0.0     0.0     0.0     0.0     0.0     0.0     0.0     0.0   \n",
            "2     0.0     0.0     0.0     0.0     0.0     0.0     0.0     0.0     0.0   \n",
            "3     0.0     0.0     0.0     0.0     0.0     0.0     0.0     0.0     0.0   \n",
            "4     0.0     0.0     0.0     0.0     0.0     0.0     0.0     0.0     0.0   \n",
            "\n",
            "   pixel10  ...  pixel776  pixel777  pixel778  pixel779  pixel780  pixel781  \\\n",
            "0      0.0  ...       0.0       0.0       0.0       0.0       0.0       0.0   \n",
            "1      0.0  ...       0.0       0.0       0.0       0.0       0.0       0.0   \n",
            "2      0.0  ...       0.0       0.0       0.0       0.0       0.0       0.0   \n",
            "3      0.0  ...       0.0       0.0       0.0       0.0       0.0       0.0   \n",
            "4      0.0  ...       0.0       0.0       0.0       0.0       0.0       0.0   \n",
            "\n",
            "   pixel782  pixel783  pixel784  label  \n",
            "0       0.0       0.0       0.0      5  \n",
            "1       0.0       0.0       0.0      0  \n",
            "2       0.0       0.0       0.0      4  \n",
            "3       0.0       0.0       0.0      1  \n",
            "4       0.0       0.0       0.0      9  \n",
            "\n",
            "[5 rows x 785 columns]\n",
            "Number of rows: 70000\n",
            "Number of columns: 785\n"
          ]
        }
      ]
    },
    {
      "cell_type": "markdown",
      "source": [
        "*   Based on the shape of the mnist DataFrame, we can infer that there are 70000 data points which represent a unique handwritten digit from 0 to 9.\n",
        "*   There are 784 different features in this dataframe which each correspond to the pixel value within a 28px28p image. The pixel values/features correspond to a given pixel's grayscale intensity"
      ],
      "metadata": {
        "id": "LXAAl1JzeJp2"
      }
    },
    {
      "cell_type": "markdown",
      "source": [
        "### Part 3:\n"
      ],
      "metadata": {
        "id": "CzrQqffffhfR"
      }
    },
    {
      "cell_type": "code",
      "source": [
        "#print(mnist.columns)\n",
        "label_counts = labels.value_counts()\n",
        "print(label_counts)"
      ],
      "metadata": {
        "id": "FJTzg6hpgjMm",
        "outputId": "f60d1e91-bdc5-49be-e405-d3b1a58a26b3",
        "colab": {
          "base_uri": "https://localhost:8080/"
        }
      },
      "execution_count": null,
      "outputs": [
        {
          "output_type": "stream",
          "name": "stdout",
          "text": [
            "class\n",
            "1    7877\n",
            "7    7293\n",
            "3    7141\n",
            "2    6990\n",
            "9    6958\n",
            "0    6903\n",
            "6    6876\n",
            "8    6825\n",
            "4    6824\n",
            "5    6313\n",
            "Name: count, dtype: int64\n"
          ]
        }
      ]
    },
    {
      "cell_type": "markdown",
      "source": [
        "### Part 4:\n",
        "The ``` train_test_split``` feature allows you to partition your data into subsets for training and testing respectfully. This means that you can properly evaluate the performance of the model with on the testing data, giving a more accurate estimate on how the model will perform on new data.\n",
        "\n"
      ],
      "metadata": {
        "id": "5OiSHdAMqV0t"
      }
    },
    {
      "cell_type": "markdown",
      "source": [
        "### Part 5:\n",
        "The ``` DecisionTreeClassifier ``` is an object which may be created to train a model implemented for classification problems. The model will construct a decision tree with optimized decision criteria and make appropriate classifications when provided new data for prediction. The score metric provides the accuracy of the model - i.e. the proportion of correctly predicted labels to the total number of labels."
      ],
      "metadata": {
        "id": "iJ1ldujyq6t5"
      }
    },
    {
      "cell_type": "markdown",
      "source": [
        "### Part 6:\n",
        "When you increase the height of the decision tree, the training error will decrease consistently. This is because the model becomes more specifically designed to make decisions based on the provided training data."
      ],
      "metadata": {
        "id": "dsWY1K0-r_xQ"
      }
    },
    {
      "cell_type": "markdown",
      "source": [
        "### Part 7:\n",
        "When you increase the depth of the decision tree, the magnitude of the difference between the training and testing error will grow larger. This is because the model will begin to overfit to the training data. The test error will increase as the model makes assumptions about the data that may only be reflected by the training data set."
      ],
      "metadata": {
        "id": "4CzWSb8OsVRu"
      }
    },
    {
      "cell_type": "markdown",
      "source": [
        "### Part 8:"
      ],
      "metadata": {
        "id": "UzfKjBNNtT-F"
      }
    },
    {
      "cell_type": "code",
      "source": [
        "from sklearn.model_selection import train_test_split\n",
        "from sklearn import tree\n",
        "\n",
        "training_sizes = [100, 500, 5000, 10000, 15000, 20000, 25000]\n",
        "training_scores = []\n",
        "testing_scores = []\n",
        "differences = []\n",
        "n=70000\n",
        "\n",
        "for size in training_sizes:\n",
        "  X_train, X_test, Y_train, Y_test = train_test_split(data, labels, train_size=size, test_size=n-size)\n",
        "  dt = tree.DecisionTreeClassifier(max_depth=7)\n",
        "  dt.fit(X_train,Y_train)\n",
        "  train_score = dt.score(X_train,Y_train)\n",
        "  test_score = dt.score(X_test, Y_test)\n",
        "  differences.append(train_score-test_score)\n",
        "  training_scores.append(train_score)\n",
        "  testing_scores.append(test_score)"
      ],
      "metadata": {
        "id": "kCBJmg4MtTH0"
      },
      "execution_count": null,
      "outputs": []
    },
    {
      "cell_type": "code",
      "source": [
        "plt.figure(figsize=(12, 6))\n",
        "plt.plot(training_sizes, differences, marker='o', linestyle='-', color='b')\n",
        "plt.xlabel('Training Set Size')\n",
        "plt.ylabel('Training Score - Testing Score')\n",
        "plt.title('Difference Between Training Score and Testing Score vs. Training Set Size')\n",
        "plt.grid(True)\n",
        "plt.show()"
      ],
      "metadata": {
        "id": "G4L1F0-UubYw",
        "outputId": "32c5477f-32b5-4d92-8286-f0d0668ee9cc",
        "colab": {
          "base_uri": "https://localhost:8080/",
          "height": 564
        }
      },
      "execution_count": null,
      "outputs": [
        {
          "output_type": "display_data",
          "data": {
            "text/plain": [
              "<Figure size 1200x600 with 1 Axes>"
            ],
            "image/png": "[encoded data removed]",
            "application/pdf": "[encoded data removed]"
          },
          "metadata": {}
        }
      ]
    },
    {
      "cell_type": "markdown",
      "source": [
        "What is shown above is the performance of the model is increasing as the training data set size becomes larger."
      ],
      "metadata": {
        "id": "K1NMz0LevWL5"
      }
    },
    {
      "cell_type": "markdown",
      "source": [
        "# Problem 6\n",
        "\n",
        "We now turn to a somewhat more sophisticated data set: CIFAR10.\n",
        "Here is an initial colab notebook: https://colab.research.google.com/drive/1H3a4yVuZLatBvFjrUp5aFBJn_vfmXj7o?usp=sharing\n",
        "\n",
        "Part 1. How many data points are there, and how many labels? How many points for each label?\n",
        "\n",
        "Part 2. There are two ``TO DOs'' listed in the colab notebook. Complete these.\n",
        "\n",
        "\n",
        "If you did this correctly and ran the notebook, you noticed that CIFAR10 indeed looks like a ``harder'' problem. Deep trees are again doing very well on the training set, and they do a little better than guessing on the testing data, but not as well as they do on MNIST. We will revisit CIFAR10 several times, as we develop more powerful tools. And we will see that we will do much better than deep decision trees!"
      ],
      "metadata": {
        "id": "yd9X32wZvrBc"
      }
    },
    {
      "cell_type": "markdown",
      "source": [
        "### Part 1:\n",
        "The data set consists of 50,000 training data points and 10,000 testing data points. There are 10 total labels.\n",
        "For each label in the training set there are 5000 samples. For each label in the testing set there are 1000 samples."
      ],
      "metadata": {
        "id": "FlwFT3MB4wye"
      }
    },
    {
      "cell_type": "markdown",
      "source": [
        "### Part 2:"
      ],
      "metadata": {
        "id": "H8U3GktK5-ox"
      }
    },
    {
      "cell_type": "code",
      "source": [
        "import numpy as np\n",
        "import matplotlib.pyplot as plt\n",
        "import seaborn as sns; sns.set()\n",
        "from keras.datasets import cifar10\n",
        "from sklearn import tree\n",
        "\n",
        "(X_train, y_train), (X_test, y_test) = cifar10.load_data()\n",
        "# Reshape X_train\n",
        "num_train_samples, height, width, channels = X_train.shape\n",
        "X_tr = X_train.reshape(num_train_samples, height * width * channels)\n",
        "new_shape = X_tr.shape\n",
        "print(f\"New shape of X_tr: {new_shape}\")"
      ],
      "metadata": {
        "colab": {
          "base_uri": "https://localhost:8080/",
          "height": 0
        },
        "id": "6FCVmdD45g-4",
        "outputId": "f1061b90-4518-44d8-bddc-8ce617328f1f"
      },
      "execution_count": 3,
      "outputs": [
        {
          "output_type": "stream",
          "name": "stdout",
          "text": [
            "New shape of X_tr: (50000, 3072)\n"
          ]
        }
      ]
    },
    {
      "cell_type": "code",
      "source": [
        "X_test = X_test.reshape(X_test.shape[0], height * width * channels)\n",
        "train_accuracies = []\n",
        "test_accuracies = []\n",
        "depths = range(1, 16)\n",
        "\n",
        "for depth in depths:\n",
        "    clf = tree.DecisionTreeClassifier(max_depth=depth)\n",
        "    clf.fit(X_tr, y_train.ravel()) # takes very long to train the models ***\n",
        "    train_accuracy = clf.score(X_tr, y_train)\n",
        "    test_accuracy = clf.score(X_test, y_test)\n",
        "    train_accuracies.append(train_accuracy)\n",
        "    test_accuracies.append(test_accuracy)"
      ],
      "metadata": {
        "id": "UGKLABVh7Jwe"
      },
      "execution_count": null,
      "outputs": []
    },
    {
      "cell_type": "code",
      "source": [
        "plt.figure(figsize=(12, 6))\n",
        "plt.plot(depths, train_accuracies, marker='o', linestyle='-', color='b', label='Training Accuracy')\n",
        "plt.plot(depths, test_accuracies, marker='o', linestyle='--', color='r', label='Testing Accuracy')\n",
        "plt.xlabel('Tree Depth')\n",
        "plt.ylabel('Accuracy')\n",
        "plt.title('Training and Testing Accuracy vs. Tree Depth')\n",
        "plt.legend()\n",
        "plt.grid(True)\n",
        "plt.show()"
      ],
      "metadata": {
        "id": "CzONsYvr8Tis"
      },
      "execution_count": null,
      "outputs": []
    }
  ],
  "metadata": {
    "kernelspec": {
      "display_name": "DATASCIENCE",
      "language": "python",
      "name": "python3"
    },
    "language_info": {
      "codemirror_mode": {
        "name": "ipython",
        "version": 3
      },
      "file_extension": ".py",
      "mimetype": "text/x-python",
      "name": "python",
      "nbconvert_exporter": "python",
      "pygments_lexer": "ipython3",
      "version": "3.12.4"
    },
    "colab": {
      "provenance": []
    }
  },
  "nbformat": 4,
  "nbformat_minor": 0
}